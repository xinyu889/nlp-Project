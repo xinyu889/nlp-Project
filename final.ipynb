{
 "cells": [
  {
   "cell_type": "code",
   "execution_count": 1,
   "source": [
    "import gzip\n",
    "import json\n",
    "import pandas as pd\n",
    "import requests\n",
    "from io import BytesIO\n",
    "#抓取今年的file\n",
    "def make_category_id_url_suffix(category, extension='json'):\n",
    "    year = str(pd.datetime.today().year)\n",
    "    month = str(pd.datetime.today().month).zfill(2)\n",
    "    day = str(pd.datetime.today().day - 1).zfill(2)\n",
    "    return '_'.join([category, 'ids', month, day, year]) + '.' + extension\n",
    "\n",
    "#Download ID list\n",
    "def download_id_list_as_csv(category):\n",
    "    \n",
    "    print(f'Downloading list of ids for {category}')\n",
    "    id_list_name = make_category_id_url_suffix(category)\n",
    "    ID_LISTS_RAW_URL = 'http://files.tmdb.org/p/exports/{0}.gz'.format(id_list_name)\n",
    "    with gzip.open(BytesIO(requests.get(ID_LISTS_RAW_URL).content), 'r') as f_open:\n",
    "        id_list = f_open.readlines()\n",
    "    # original 'json' is malformed, is actually one dict per line\n",
    "    ids = pd.DataFrame([json.loads(x) for x in id_list])\n",
    "    # some entries in the movie id list appear to be collections rather than movies\n",
    "    if 'original_title' in ids.columns:\n",
    "        ids.original_title = ids.original_title.apply(str)\n",
    "        ids = ids[~ids.original_title.str.endswith(' Collection')].copy()\n",
    "    # You have to drop adult films if you want to post any new data to Kaggle.\n",
    "    if 'adult' in ids.columns:\n",
    "        ids = ids[~ids['adult']].copy()\n",
    "    ids.to_csv(category + '_ids.csv', index=False)"
   ],
   "outputs": [],
   "metadata": {}
  },
  {
   "cell_type": "code",
   "execution_count": 2,
   "source": [
    "download_id_list_as_csv('movie')"
   ],
   "outputs": [
    {
     "output_type": "stream",
     "name": "stdout",
     "text": [
      "Downloading list of ids for movie\n"
     ]
    },
    {
     "output_type": "stream",
     "name": "stderr",
     "text": [
      "/Users/zhangxinyu/.pyenv/versions/3.7.6/lib/python3.7/site-packages/ipykernel_launcher.py:8: FutureWarning: The pandas.datetime class is deprecated and will be removed from pandas in a future version. Import from datetime module instead.\n",
      "  \n",
      "/Users/zhangxinyu/.pyenv/versions/3.7.6/lib/python3.7/site-packages/ipykernel_launcher.py:9: FutureWarning: The pandas.datetime class is deprecated and will be removed from pandas in a future version. Import from datetime module instead.\n",
      "  if __name__ == '__main__':\n",
      "/Users/zhangxinyu/.pyenv/versions/3.7.6/lib/python3.7/site-packages/ipykernel_launcher.py:10: FutureWarning: The pandas.datetime class is deprecated and will be removed from pandas in a future version. Import from datetime module instead.\n",
      "  # Remove the CWD from sys.path while we load stuff.\n"
     ]
    }
   ],
   "metadata": {}
  },
  {
   "cell_type": "code",
   "execution_count": 3,
   "source": [
    "import requests\n",
    "import pandas as pd\n",
    "import re\n",
    "import json\n",
    "import csv\n",
    "\n",
    "#Read all tmdbID\n",
    "df = pd.read_csv('movie_ids.csv')\n",
    "\n",
    "with open(\"movie.csv\",mode=\"w\") as fi:\n",
    "    writer = csv.writer(fi, delimiter=',')\n",
    "    writer.writerow(['index','movie_id', 'movie_name', 'genres','overview','original_language'])\n",
    "    num = 0\n",
    "    #Write Data to csv\n",
    "    for value in df['id']:\n",
    "        #for i,value in enumerate(df['id'])\n",
    "        if num >500:\n",
    "            break\n",
    "        url = 'https://api.themoviedb.org/3/movie/'+str(value)+'?api_key=6dfbbbfc10aa0e69930a9f512c59b66d&language=zh-TW&append_to_response=credits,keywords'\n",
    "        r = requests.get(url)\n",
    "        response = r.text\n",
    "        data = json.loads(response)\n",
    "        \n",
    "        #Select zh-TW Movie Data\n",
    "        if not '\\u4e00' <= data['title'] <= '\\u9fa5':\n",
    "            continue\n",
    "        else:\n",
    "            num = num +1\n",
    "            writer.writerow([num,data['id'], data['title'], data['genres'],re.sub('\\s+','',data['overview']),data['original_language']])\n"
   ],
   "outputs": [],
   "metadata": {}
  },
  {
   "cell_type": "code",
   "execution_count": 2,
   "source": [
    "import requests\n",
    "import pandas as pd\n",
    "import re\n",
    "import json\n",
    "import csv\n",
    "df1 = pd.read_csv(u'movie.csv')\n",
    "df1"
   ],
   "outputs": [
    {
     "output_type": "execute_result",
     "data": {
      "text/plain": [
       "     index  movie_id    movie_name  \\\n",
       "0        1         3          天堂孤影   \n",
       "1        2        11  星際大戰四部曲：曙光乍現   \n",
       "2        3        12         海底總動員   \n",
       "3        4        13          阿甘正傳   \n",
       "4        5        14        美國心玫瑰情   \n",
       "..     ...       ...           ...   \n",
       "496    497       956       不可能的任務3   \n",
       "497    498       957          星際歪傳   \n",
       "498    499       961           將軍號   \n",
       "499    500       962           淘金熱   \n",
       "500    501       963         梟巢喋血戰   \n",
       "\n",
       "                                                genres  \\\n",
       "0    [{'id': 18, 'name': '剧情'}, {'id': 35, 'name': ...   \n",
       "1    [{'id': 12, 'name': '冒险'}, {'id': 28, 'name': ...   \n",
       "2    [{'id': 16, 'name': '动画'}, {'id': 10751, 'name...   \n",
       "3    [{'id': 35, 'name': '喜剧'}, {'id': 18, 'name': ...   \n",
       "4                           [{'id': 18, 'name': '剧情'}]   \n",
       "..                                                 ...   \n",
       "496  [{'id': 12, 'name': '冒险'}, {'id': 28, 'name': ...   \n",
       "497  [{'id': 35, 'name': '喜剧'}, {'id': 878, 'name':...   \n",
       "498  [{'id': 28, 'name': '动作'}, {'id': 12, 'name': ...   \n",
       "499  [{'id': 12, 'name': '冒险'}, {'id': 35, 'name': ...   \n",
       "500  [{'id': 9648, 'name': '悬疑'}, {'id': 80, 'name'...   \n",
       "\n",
       "                                              overview original_language  \n",
       "0    環衛公司垃圾車駕駛員尼卡德（MattiPellonp鳵飾）的老同事計劃籌資組建自己的環衛公司...                fi  \n",
       "1    遙遠星係發生叛亂，銀河共和國被推翻，奧爾德蘭星的莉亞公主（卡里•費甚爾CarrieFishe...                en  \n",
       "2    小丑魚馬林（Marlin）與配偶珊瑚（Coral）於大堡礁建立了家園，但一場梭子魚的攻擊使馬...                en  \n",
       "3    二次大戰剛結束，阿甘出生在美國阿拉巴馬州的一個閉塞小鎮，他先天弱智，但上帝又賜予他一雙疾步如...                en  \n",
       "4    故事的主人翁賴斯特罕住在一個典型的美國小鎮裡，他面臨中年危機，突然對自己的生活感到不滿：和太...                en  \n",
       "..                                                 ...               ...  \n",
       "496  秘密特工伊森（湯姆·克魯斯TomCruise飾）隱藏了真實身份，准備和女友安心生活。這時，他...                en  \n",
       "497  在很久以前的遙遠星系中，「炮彈一族」因其領袖的愚蠢，耗盡了自己星球的大氣，於是計劃奪取鄰近的...                en  \n",
       "498  故事發生在美國南北戰爭時期，火車司機約翰尼·格雷（巴斯特·基頓飾演）有兩大最愛：一個是他的女...                en  \n",
       "499  流浪漢查理（查理·卓別林飾）隨隊伍來到阿拉斯加淘金。他在一間小木屋裡碰見了通緝犯拉遜，接著淘...                en  \n",
       "500  故事背景是舊金山市，薩姆·斯佩德和阿切爾是一對偵探搭檔。一位貴婦委託他們尋找她失蹤的妹妹，據...                en  \n",
       "\n",
       "[501 rows x 6 columns]"
      ],
      "text/html": [
       "<div>\n",
       "<style scoped>\n",
       "    .dataframe tbody tr th:only-of-type {\n",
       "        vertical-align: middle;\n",
       "    }\n",
       "\n",
       "    .dataframe tbody tr th {\n",
       "        vertical-align: top;\n",
       "    }\n",
       "\n",
       "    .dataframe thead th {\n",
       "        text-align: right;\n",
       "    }\n",
       "</style>\n",
       "<table border=\"1\" class=\"dataframe\">\n",
       "  <thead>\n",
       "    <tr style=\"text-align: right;\">\n",
       "      <th></th>\n",
       "      <th>index</th>\n",
       "      <th>movie_id</th>\n",
       "      <th>movie_name</th>\n",
       "      <th>genres</th>\n",
       "      <th>overview</th>\n",
       "      <th>original_language</th>\n",
       "    </tr>\n",
       "  </thead>\n",
       "  <tbody>\n",
       "    <tr>\n",
       "      <th>0</th>\n",
       "      <td>1</td>\n",
       "      <td>3</td>\n",
       "      <td>天堂孤影</td>\n",
       "      <td>[{'id': 18, 'name': '剧情'}, {'id': 35, 'name': ...</td>\n",
       "      <td>環衛公司垃圾車駕駛員尼卡德（MattiPellonp鳵飾）的老同事計劃籌資組建自己的環衛公司...</td>\n",
       "      <td>fi</td>\n",
       "    </tr>\n",
       "    <tr>\n",
       "      <th>1</th>\n",
       "      <td>2</td>\n",
       "      <td>11</td>\n",
       "      <td>星際大戰四部曲：曙光乍現</td>\n",
       "      <td>[{'id': 12, 'name': '冒险'}, {'id': 28, 'name': ...</td>\n",
       "      <td>遙遠星係發生叛亂，銀河共和國被推翻，奧爾德蘭星的莉亞公主（卡里•費甚爾CarrieFishe...</td>\n",
       "      <td>en</td>\n",
       "    </tr>\n",
       "    <tr>\n",
       "      <th>2</th>\n",
       "      <td>3</td>\n",
       "      <td>12</td>\n",
       "      <td>海底總動員</td>\n",
       "      <td>[{'id': 16, 'name': '动画'}, {'id': 10751, 'name...</td>\n",
       "      <td>小丑魚馬林（Marlin）與配偶珊瑚（Coral）於大堡礁建立了家園，但一場梭子魚的攻擊使馬...</td>\n",
       "      <td>en</td>\n",
       "    </tr>\n",
       "    <tr>\n",
       "      <th>3</th>\n",
       "      <td>4</td>\n",
       "      <td>13</td>\n",
       "      <td>阿甘正傳</td>\n",
       "      <td>[{'id': 35, 'name': '喜剧'}, {'id': 18, 'name': ...</td>\n",
       "      <td>二次大戰剛結束，阿甘出生在美國阿拉巴馬州的一個閉塞小鎮，他先天弱智，但上帝又賜予他一雙疾步如...</td>\n",
       "      <td>en</td>\n",
       "    </tr>\n",
       "    <tr>\n",
       "      <th>4</th>\n",
       "      <td>5</td>\n",
       "      <td>14</td>\n",
       "      <td>美國心玫瑰情</td>\n",
       "      <td>[{'id': 18, 'name': '剧情'}]</td>\n",
       "      <td>故事的主人翁賴斯特罕住在一個典型的美國小鎮裡，他面臨中年危機，突然對自己的生活感到不滿：和太...</td>\n",
       "      <td>en</td>\n",
       "    </tr>\n",
       "    <tr>\n",
       "      <th>...</th>\n",
       "      <td>...</td>\n",
       "      <td>...</td>\n",
       "      <td>...</td>\n",
       "      <td>...</td>\n",
       "      <td>...</td>\n",
       "      <td>...</td>\n",
       "    </tr>\n",
       "    <tr>\n",
       "      <th>496</th>\n",
       "      <td>497</td>\n",
       "      <td>956</td>\n",
       "      <td>不可能的任務3</td>\n",
       "      <td>[{'id': 12, 'name': '冒险'}, {'id': 28, 'name': ...</td>\n",
       "      <td>秘密特工伊森（湯姆·克魯斯TomCruise飾）隱藏了真實身份，准備和女友安心生活。這時，他...</td>\n",
       "      <td>en</td>\n",
       "    </tr>\n",
       "    <tr>\n",
       "      <th>497</th>\n",
       "      <td>498</td>\n",
       "      <td>957</td>\n",
       "      <td>星際歪傳</td>\n",
       "      <td>[{'id': 35, 'name': '喜剧'}, {'id': 878, 'name':...</td>\n",
       "      <td>在很久以前的遙遠星系中，「炮彈一族」因其領袖的愚蠢，耗盡了自己星球的大氣，於是計劃奪取鄰近的...</td>\n",
       "      <td>en</td>\n",
       "    </tr>\n",
       "    <tr>\n",
       "      <th>498</th>\n",
       "      <td>499</td>\n",
       "      <td>961</td>\n",
       "      <td>將軍號</td>\n",
       "      <td>[{'id': 28, 'name': '动作'}, {'id': 12, 'name': ...</td>\n",
       "      <td>故事發生在美國南北戰爭時期，火車司機約翰尼·格雷（巴斯特·基頓飾演）有兩大最愛：一個是他的女...</td>\n",
       "      <td>en</td>\n",
       "    </tr>\n",
       "    <tr>\n",
       "      <th>499</th>\n",
       "      <td>500</td>\n",
       "      <td>962</td>\n",
       "      <td>淘金熱</td>\n",
       "      <td>[{'id': 12, 'name': '冒险'}, {'id': 35, 'name': ...</td>\n",
       "      <td>流浪漢查理（查理·卓別林飾）隨隊伍來到阿拉斯加淘金。他在一間小木屋裡碰見了通緝犯拉遜，接著淘...</td>\n",
       "      <td>en</td>\n",
       "    </tr>\n",
       "    <tr>\n",
       "      <th>500</th>\n",
       "      <td>501</td>\n",
       "      <td>963</td>\n",
       "      <td>梟巢喋血戰</td>\n",
       "      <td>[{'id': 9648, 'name': '悬疑'}, {'id': 80, 'name'...</td>\n",
       "      <td>故事背景是舊金山市，薩姆·斯佩德和阿切爾是一對偵探搭檔。一位貴婦委託他們尋找她失蹤的妹妹，據...</td>\n",
       "      <td>en</td>\n",
       "    </tr>\n",
       "  </tbody>\n",
       "</table>\n",
       "<p>501 rows × 6 columns</p>\n",
       "</div>"
      ]
     },
     "metadata": {},
     "execution_count": 2
    }
   ],
   "metadata": {}
  },
  {
   "cell_type": "code",
   "execution_count": 3,
   "source": [
    "# Extract list of genres\n",
    "from ast import literal_eval\n",
    "\n",
    "df1['genres'] = df1['genres'].apply(literal_eval)\n",
    "df1['genres']"
   ],
   "outputs": [
    {
     "output_type": "execute_result",
     "data": {
      "text/plain": [
       "0      [{'id': 18, 'name': '剧情'}, {'id': 35, 'name': ...\n",
       "1      [{'id': 12, 'name': '冒险'}, {'id': 28, 'name': ...\n",
       "2      [{'id': 16, 'name': '动画'}, {'id': 10751, 'name...\n",
       "3      [{'id': 35, 'name': '喜剧'}, {'id': 18, 'name': ...\n",
       "4                             [{'id': 18, 'name': '剧情'}]\n",
       "                             ...                        \n",
       "496    [{'id': 12, 'name': '冒险'}, {'id': 28, 'name': ...\n",
       "497    [{'id': 35, 'name': '喜剧'}, {'id': 878, 'name':...\n",
       "498    [{'id': 28, 'name': '动作'}, {'id': 12, 'name': ...\n",
       "499    [{'id': 12, 'name': '冒险'}, {'id': 35, 'name': ...\n",
       "500    [{'id': 9648, 'name': '悬疑'}, {'id': 80, 'name'...\n",
       "Name: genres, Length: 501, dtype: object"
      ]
     },
     "metadata": {},
     "execution_count": 3
    }
   ],
   "metadata": {}
  },
  {
   "cell_type": "code",
   "execution_count": 4,
   "source": [
    "def list_genres(x):\n",
    "    l = [d['name'] for d in x]\n",
    "    return(l)\n",
    "df1['genres'] = df1['genres'].apply(list_genres)\n",
    "\n",
    "df1['genres']"
   ],
   "outputs": [
    {
     "output_type": "execute_result",
     "data": {
      "text/plain": [
       "0                  [剧情, 喜剧]\n",
       "1              [冒险, 动作, 科幻]\n",
       "2                  [动画, 家庭]\n",
       "3              [喜剧, 剧情, 爱情]\n",
       "4                      [剧情]\n",
       "               ...         \n",
       "496            [冒险, 动作, 惊悚]\n",
       "497                [喜剧, 科幻]\n",
       "498    [动作, 冒险, 喜剧, 剧情, 战争]\n",
       "499            [冒险, 喜剧, 剧情]\n",
       "500            [悬疑, 犯罪, 惊悚]\n",
       "Name: genres, Length: 501, dtype: object"
      ]
     },
     "metadata": {},
     "execution_count": 4
    }
   ],
   "metadata": {}
  },
  {
   "cell_type": "code",
   "execution_count": 5,
   "source": [
    "missing = df1.columns[df1.isnull().any()]\n",
    "df1[missing].isnull().sum().to_frame()\n",
    "\n",
    "# Replace NaN from overview with an empty string\n",
    "df1['overview'] = df1['overview'].fillna('')"
   ],
   "outputs": [],
   "metadata": {}
  },
  {
   "cell_type": "code",
   "execution_count": 6,
   "source": [
    "import jieba\n",
    "import jieba.analyse\n",
    "#split overview\n",
    "#print(df1['overview'])\n",
    "overviews = []\n",
    "for d in df1['overview'].astype(str):\n",
    "    keywords = jieba.analyse.extract_tags(d, topK=10)\n",
    "    overviews.append(keywords)\n",
    "\n",
    "df1['keyword'] = overviews"
   ],
   "outputs": [
    {
     "output_type": "stream",
     "name": "stderr",
     "text": [
      "Building prefix dict from the default dictionary ...\n",
      "Loading model from cache /var/folders/g9/__yhhv7d0xx59_jssnmpjhwh0000gn/T/jieba.cache\n",
      "Loading model cost 0.762 seconds.\n",
      "Prefix dict has been built successfully.\n"
     ]
    }
   ],
   "metadata": {}
  },
  {
   "cell_type": "code",
   "execution_count": 7,
   "source": [
    "import re\n",
    "df1['feature'] = ''\n",
    "def bag_words(x):\n",
    "    return (''.join(re.sub('[^\\u4e00-\\u9fa5]+', '', x['movie_name'])) + ' ' + ' '.join(x['genres']) + ' ' +  ' '.join(x['keyword']))\n",
    "df1['feature'] = df1.apply(bag_words, axis = 1)\n",
    "\n",
    "df1['feature'].head()"
   ],
   "outputs": [
    {
     "output_type": "execute_result",
     "data": {
      "text/plain": [
       "0          天堂孤影 剧情 喜剧 卡德 伊羅娜 環衛 經理 服裝店 老同事 卡拉 超市 本片 車駕\n",
       "1    星際大戰四部曲曙光乍現 冒险 动作 科幻 帝國 盧克 銀河 機器 歐比 走私者 加瓦 遙遠星...\n",
       "2    海底總動員 动画 家庭 尼莫 卵子 攻擊 潛水員 珊瑚 魚馬林 Marlin Coral 家...\n",
       "3    阿甘正傳 喜剧 剧情 爱情 美國 阿甘 一個 尼克森 珍妮 乒乓外交 人生 英雄 另眼相待 大戰剛\n",
       "4            美國心玫瑰情 剧情 卡洛琳 小珍 越來 人生 冷感 罕住 一個 美國 小鎮裡 面臨\n",
       "Name: feature, dtype: object"
      ]
     },
     "metadata": {},
     "execution_count": 7
    }
   ],
   "metadata": {}
  },
  {
   "cell_type": "code",
   "execution_count": 8,
   "source": [
    "import pandas as pd\n",
    "import numpy as np\n",
    "from rake_nltk import Rake\n",
    "\n",
    "from sklearn.metrics.pairwise import cosine_similarity\n",
    "from sklearn.feature_extraction.text import CountVectorizer\n",
    "# 將文件中的詞語轉換為詞頻矩陣\n",
    "cv = CountVectorizer()\n",
    "# 計算個詞語出現的次數\n",
    "cv_mx = cv.fit_transform(df1['feature'])\n",
    "\n",
    "# create cosine similarity matrix\n",
    "cosine_sim = cosine_similarity(cv_mx, cv_mx)\n",
    "print(cosine_sim)"
   ],
   "outputs": [
    {
     "output_type": "stream",
     "name": "stdout",
     "text": [
      "[[1.         0.         0.         ... 0.13074409 0.14824986 0.        ]\n",
      " [0.         1.         0.         ... 0.12598816 0.07142857 0.        ]\n",
      " [0.         0.         1.         ... 0.         0.         0.        ]\n",
      " ...\n",
      " [0.13074409 0.12598816 0.         ... 1.         0.18898224 0.06299408]\n",
      " [0.14824986 0.07142857 0.         ... 0.18898224 1.         0.        ]\n",
      " [0.         0.         0.         ... 0.06299408 0.         1.        ]]\n"
     ]
    }
   ],
   "metadata": {}
  },
  {
   "cell_type": "code",
   "execution_count": 9,
   "source": [
    "# create list of indices for later matching\n",
    "indices = pd.Series(df1.index, index = df1['movie_name'])"
   ],
   "outputs": [],
   "metadata": {}
  },
  {
   "cell_type": "code",
   "execution_count": 10,
   "source": [
    "def recommend_movie(title, n = 10, cosine_sim = cosine_sim):\n",
    "    movies = []\n",
    "    \n",
    "    # retrieve matching movie title index\n",
    "    if title not in indices.index:\n",
    "        print(\"Movie not in database.\")\n",
    "        return\n",
    "    else:\n",
    "        idx = indices[title]\n",
    "    \n",
    "    # cosine similarity scores of movies in descending order\n",
    "    scores = pd.Series(cosine_sim[idx]).sort_values(ascending = False)\n",
    "    \n",
    "    # top n most similar movies indexes\n",
    "    # use 1:n because 0 is the same movie entered\n",
    "    top_n_idx = list(scores.iloc[1:n].index)\n",
    "        \n",
    "    #return df_keys['title'].iloc[top_n_idx]\n",
    "    print(df1['movie_name'].iloc[top_n_idx])\n",
    "    ans = df1['movie_name'].iloc[top_n_idx]\n",
    "    ans.to_csv('ans.csv')"
   ],
   "outputs": [],
   "metadata": {}
  },
  {
   "cell_type": "code",
   "execution_count": 12,
   "source": [
    "recommend_movie('怪獸電力公司',5)"
   ],
   "outputs": [
    {
     "output_type": "stream",
     "name": "stdout",
     "text": [
      "15       大砲の街\n",
      "13     彼女の想いで\n",
      "384       幻想曲\n",
      "300    怪獸電力公司\n",
      "Name: movie_name, dtype: object\n"
     ]
    }
   ],
   "metadata": {}
  }
 ],
 "metadata": {
  "orig_nbformat": 4,
  "language_info": {
   "name": "python",
   "version": "3.7.6",
   "mimetype": "text/x-python",
   "codemirror_mode": {
    "name": "ipython",
    "version": 3
   },
   "pygments_lexer": "ipython3",
   "nbconvert_exporter": "python",
   "file_extension": ".py"
  },
  "kernelspec": {
   "name": "python3",
   "display_name": "Python 3.7.6 64-bit ('3.7.6': pyenv)"
  },
  "interpreter": {
   "hash": "7fc41b1a7acd303dd356c32eae0bc8ee4149514fe8a099b2279ea3ac2a654e9b"
  }
 },
 "nbformat": 4,
 "nbformat_minor": 2
}